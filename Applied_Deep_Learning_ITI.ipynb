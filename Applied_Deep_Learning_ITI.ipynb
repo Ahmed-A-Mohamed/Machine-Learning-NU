{
  "nbformat": 4,
  "nbformat_minor": 0,
  "metadata": {
    "colab": {
      "provenance": [],
      "authorship_tag": "ABX9TyPLc1KS0Rxw9ExtFiX4+9EW",
      "include_colab_link": true
    },
    "kernelspec": {
      "name": "python3",
      "display_name": "Python 3"
    },
    "language_info": {
      "name": "python"
    }
  },
  "cells": [
    {
      "cell_type": "markdown",
      "metadata": {
        "id": "view-in-github",
        "colab_type": "text"
      },
      "source": [
        "<a href=\"https://colab.research.google.com/github/Ahmed-A-Mohamed/MachineLearning-DeepLearning/blob/master/Applied_Deep_Learning_ITI.ipynb\" target=\"_parent\"><img src=\"https://colab.research.google.com/assets/colab-badge.svg\" alt=\"Open In Colab\"/></a>"
      ]
    },
    {
      "cell_type": "code",
      "execution_count": null,
      "metadata": {
        "id": "E12lN6-SWifI"
      },
      "outputs": [],
      "source": []
    },
    {
      "cell_type": "markdown",
      "source": [
        "https://maharatech.gov.eg/mod/hvp/view.php?id=7090&forceview=1"
      ],
      "metadata": {
        "id": "CToUViLBf-YJ"
      }
    },
    {
      "cell_type": "code",
      "source": [],
      "metadata": {
        "id": "BBuT0aI9f---"
      },
      "execution_count": null,
      "outputs": []
    }
  ]
}