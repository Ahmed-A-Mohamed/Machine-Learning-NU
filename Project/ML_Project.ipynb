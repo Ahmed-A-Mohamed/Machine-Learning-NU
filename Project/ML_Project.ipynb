{
 "cells": [
  {
   "cell_type": "code",
   "execution_count": null,
   "metadata": {
    "id": "J7fKXniMbMxs"
   },
   "outputs": [],
   "source": []
  },
  {
   "cell_type": "markdown",
   "metadata": {
    "id": "C7akeWOa0W2z"
   },
   "source": [
    " # Tutorial\n",
    "https://github.com/cstub/ml-ids\n",
    "\n",
    "---\n",
    "\n",
    "\n",
    " # Data\n",
    " aws s3 sync --no-sign-request --region eu-north-1 \"s3://cse-cic-ids2018/\" C:\\Users\\El-Wattaneya\n",
    "\n",
    "aws s3 sync --no-sign-request --region eu-north-1 \"s3://cse-cic-ids2018/Processed Traffic Data for ML Algorithms/\" C:\\Users\\El-Wattaneya\n",
    "\n",
    "\n",
    "---\n",
    "\n",
    "\n",
    "your-region = eu-north-1\n",
    "\n",
    "\n",
    "dest-dir = C:\\Users\\El-Wattaneya"
   ]
  },
  {
   "cell_type": "markdown",
   "metadata": {
    "id": "uoehodyVWdzF"
   },
   "source": [
    "# 1. Load Libraries"
   ]
  },
  {
   "cell_type": "code",
   "execution_count": 5,
   "metadata": {
    "id": "wwyCeA_yQ8zW"
   },
   "outputs": [],
   "source": [
    "import numpy as np\n",
    "import pandas as pd\n",
    "import matplotlib.pyplot as plt\n",
    "import seaborn as sns"
   ]
  },
  {
   "cell_type": "markdown",
   "metadata": {
    "id": "apneXzi1W2eH"
   },
   "source": [
    "# 2. Preprocessing data"
   ]
  },
  {
   "cell_type": "code",
   "execution_count": 6,
   "metadata": {
    "colab": {
     "base_uri": "https://localhost:8080/",
     "height": 337
    },
    "id": "GqBROjzmXBru",
    "outputId": "e5279c59-d561-4d59-ab11-a1d06cad6b13"
   },
   "outputs": [
    {
     "name": "stderr",
     "output_type": "stream",
     "text": [
      "/home/hp/miniconda3/lib/python3.7/site-packages/IPython/core/interactiveshell.py:3173: DtypeWarning: Columns (0,1,3,4,5,6,7,8,9,10,11,12,13,14,15,16,17,18,19,20,21,22,23,24,25,26,27,28,29,30,31,32,33,34,35,36,37,38,39,40,41,42,43,44,45,46,47,48,49,50,51,52,53,54,55,56,57,58,59,60,61,62,63,64,65,66,67,68,69,70,71,72,73,74,75,76,77,78) have mixed types.Specify dtype option on import or set low_memory=False.\n",
      "  interactivity=interactivity, compiler=compiler, result=result)\n"
     ]
    },
    {
     "data": {
      "text/html": [
       "<div>\n",
       "<style scoped>\n",
       "    .dataframe tbody tr th:only-of-type {\n",
       "        vertical-align: middle;\n",
       "    }\n",
       "\n",
       "    .dataframe tbody tr th {\n",
       "        vertical-align: top;\n",
       "    }\n",
       "\n",
       "    .dataframe thead th {\n",
       "        text-align: right;\n",
       "    }\n",
       "</style>\n",
       "<table border=\"1\" class=\"dataframe\">\n",
       "  <thead>\n",
       "    <tr style=\"text-align: right;\">\n",
       "      <th></th>\n",
       "      <th>Dst Port</th>\n",
       "      <th>Protocol</th>\n",
       "      <th>Timestamp</th>\n",
       "      <th>Flow Duration</th>\n",
       "      <th>Tot Fwd Pkts</th>\n",
       "      <th>Tot Bwd Pkts</th>\n",
       "      <th>TotLen Fwd Pkts</th>\n",
       "      <th>TotLen Bwd Pkts</th>\n",
       "      <th>Fwd Pkt Len Max</th>\n",
       "      <th>Fwd Pkt Len Min</th>\n",
       "      <th>...</th>\n",
       "      <th>Fwd Seg Size Min</th>\n",
       "      <th>Active Mean</th>\n",
       "      <th>Active Std</th>\n",
       "      <th>Active Max</th>\n",
       "      <th>Active Min</th>\n",
       "      <th>Idle Mean</th>\n",
       "      <th>Idle Std</th>\n",
       "      <th>Idle Max</th>\n",
       "      <th>Idle Min</th>\n",
       "      <th>Label</th>\n",
       "    </tr>\n",
       "  </thead>\n",
       "  <tbody>\n",
       "    <tr>\n",
       "      <th>0</th>\n",
       "      <td>0</td>\n",
       "      <td>0</td>\n",
       "      <td>01/03/2018 08:17:11</td>\n",
       "      <td>115307855</td>\n",
       "      <td>5</td>\n",
       "      <td>0</td>\n",
       "      <td>0</td>\n",
       "      <td>0</td>\n",
       "      <td>0</td>\n",
       "      <td>0</td>\n",
       "      <td>...</td>\n",
       "      <td>0</td>\n",
       "      <td>1812348</td>\n",
       "      <td>0</td>\n",
       "      <td>1812348</td>\n",
       "      <td>1812348</td>\n",
       "      <td>56700000</td>\n",
       "      <td>6010057.622</td>\n",
       "      <td>61000000</td>\n",
       "      <td>52500000</td>\n",
       "      <td>Benign</td>\n",
       "    </tr>\n",
       "    <tr>\n",
       "      <th>1</th>\n",
       "      <td>0</td>\n",
       "      <td>0</td>\n",
       "      <td>01/03/2018 08:20:07</td>\n",
       "      <td>60997457</td>\n",
       "      <td>2</td>\n",
       "      <td>0</td>\n",
       "      <td>0</td>\n",
       "      <td>0</td>\n",
       "      <td>0</td>\n",
       "      <td>0</td>\n",
       "      <td>...</td>\n",
       "      <td>0</td>\n",
       "      <td>0</td>\n",
       "      <td>0</td>\n",
       "      <td>0</td>\n",
       "      <td>0</td>\n",
       "      <td>61000000</td>\n",
       "      <td>0</td>\n",
       "      <td>61000000</td>\n",
       "      <td>61000000</td>\n",
       "      <td>Benign</td>\n",
       "    </tr>\n",
       "    <tr>\n",
       "      <th>2</th>\n",
       "      <td>67</td>\n",
       "      <td>17</td>\n",
       "      <td>01/03/2018 08:17:18</td>\n",
       "      <td>61149019</td>\n",
       "      <td>5</td>\n",
       "      <td>0</td>\n",
       "      <td>1500</td>\n",
       "      <td>0</td>\n",
       "      <td>300</td>\n",
       "      <td>300</td>\n",
       "      <td>...</td>\n",
       "      <td>8</td>\n",
       "      <td>3530939</td>\n",
       "      <td>0</td>\n",
       "      <td>3530939</td>\n",
       "      <td>3530939</td>\n",
       "      <td>19200000</td>\n",
       "      <td>12500000</td>\n",
       "      <td>32600000</td>\n",
       "      <td>7999725</td>\n",
       "      <td>Benign</td>\n",
       "    </tr>\n",
       "    <tr>\n",
       "      <th>3</th>\n",
       "      <td>0</td>\n",
       "      <td>0</td>\n",
       "      <td>01/03/2018 08:22:09</td>\n",
       "      <td>60997555</td>\n",
       "      <td>2</td>\n",
       "      <td>0</td>\n",
       "      <td>0</td>\n",
       "      <td>0</td>\n",
       "      <td>0</td>\n",
       "      <td>0</td>\n",
       "      <td>...</td>\n",
       "      <td>0</td>\n",
       "      <td>0</td>\n",
       "      <td>0</td>\n",
       "      <td>0</td>\n",
       "      <td>0</td>\n",
       "      <td>61000000</td>\n",
       "      <td>0</td>\n",
       "      <td>61000000</td>\n",
       "      <td>61000000</td>\n",
       "      <td>Benign</td>\n",
       "    </tr>\n",
       "    <tr>\n",
       "      <th>4</th>\n",
       "      <td>0</td>\n",
       "      <td>0</td>\n",
       "      <td>01/03/2018 08:24:11</td>\n",
       "      <td>61997503</td>\n",
       "      <td>3</td>\n",
       "      <td>0</td>\n",
       "      <td>0</td>\n",
       "      <td>0</td>\n",
       "      <td>0</td>\n",
       "      <td>0</td>\n",
       "      <td>...</td>\n",
       "      <td>0</td>\n",
       "      <td>999909</td>\n",
       "      <td>0</td>\n",
       "      <td>999909</td>\n",
       "      <td>999909</td>\n",
       "      <td>61000000</td>\n",
       "      <td>0</td>\n",
       "      <td>61000000</td>\n",
       "      <td>61000000</td>\n",
       "      <td>Benign</td>\n",
       "    </tr>\n",
       "  </tbody>\n",
       "</table>\n",
       "<p>5 rows × 80 columns</p>\n",
       "</div>"
      ],
      "text/plain": [
       "  Dst Port Protocol            Timestamp Flow Duration Tot Fwd Pkts  \\\n",
       "0        0        0  01/03/2018 08:17:11     115307855            5   \n",
       "1        0        0  01/03/2018 08:20:07      60997457            2   \n",
       "2       67       17  01/03/2018 08:17:18      61149019            5   \n",
       "3        0        0  01/03/2018 08:22:09      60997555            2   \n",
       "4        0        0  01/03/2018 08:24:11      61997503            3   \n",
       "\n",
       "  Tot Bwd Pkts TotLen Fwd Pkts TotLen Bwd Pkts Fwd Pkt Len Max  \\\n",
       "0            0               0               0               0   \n",
       "1            0               0               0               0   \n",
       "2            0            1500               0             300   \n",
       "3            0               0               0               0   \n",
       "4            0               0               0               0   \n",
       "\n",
       "  Fwd Pkt Len Min  ... Fwd Seg Size Min Active Mean Active Std Active Max  \\\n",
       "0               0  ...                0     1812348          0    1812348   \n",
       "1               0  ...                0           0          0          0   \n",
       "2             300  ...                8     3530939          0    3530939   \n",
       "3               0  ...                0           0          0          0   \n",
       "4               0  ...                0      999909          0     999909   \n",
       "\n",
       "  Active Min Idle Mean     Idle Std  Idle Max  Idle Min   Label  \n",
       "0    1812348  56700000  6010057.622  61000000  52500000  Benign  \n",
       "1          0  61000000            0  61000000  61000000  Benign  \n",
       "2    3530939  19200000     12500000  32600000   7999725  Benign  \n",
       "3          0  61000000            0  61000000  61000000  Benign  \n",
       "4     999909  61000000            0  61000000  61000000  Benign  \n",
       "\n",
       "[5 rows x 80 columns]"
      ]
     },
     "execution_count": 6,
     "metadata": {},
     "output_type": "execute_result"
    }
   ],
   "source": [
    "# load data\n",
    "##df = pd.read_csv(\"/content/drive/MyDrive/ML/Project ML/data/Thursday-01-03-2018_TrafficForML_CICFlowMeter.csv\")\n",
    "df = pd.read_csv(\"Thursday-01-03-2018_TrafficForML_CICFlowMeter.csv\")\n",
    "df.head()"
   ]
  },
  {
   "cell_type": "code",
   "execution_count": null,
   "metadata": {},
   "outputs": [],
   "source": [
    "# to search about Infinity\n",
    "df.apply(lambda row: row.astype(str).str.contains('Infinity').any(), axis=1).sum()"
   ]
  },
  {
   "cell_type": "code",
   "execution_count": 7,
   "metadata": {
    "colab": {
     "base_uri": "https://localhost:8080/"
    },
    "id": "W3_UkBjUYR89",
    "outputId": "9a67a6f3-65be-4856-b585-d401eba48a4c"
   },
   "outputs": [
    {
     "data": {
      "text/plain": [
       "0               268629\n",
       "0                60520\n",
       "1                 1707\n",
       "1                  244\n",
       "FIN Flag Cnt        25\n",
       "Name: FIN Flag Cnt, dtype: int64"
      ]
     },
     "execution_count": 7,
     "metadata": {},
     "output_type": "execute_result"
    }
   ],
   "source": [
    "# get the counts of cloumn target\n",
    "df['FIN Flag Cnt'].value_counts()"
   ]
  },
  {
   "cell_type": "code",
   "execution_count": 8,
   "metadata": {
    "colab": {
     "base_uri": "https://localhost:8080/"
    },
    "id": "rcyxmKA7fPWZ",
    "outputId": "ecd6db6b-cd04-47c0-a84a-85f77b4ad207"
   },
   "outputs": [
    {
     "data": {
      "text/plain": [
       "Benign           238037\n",
       "Infilteration     93063\n",
       "Label                25\n",
       "Name: Label, dtype: int64"
      ]
     },
     "execution_count": 8,
     "metadata": {},
     "output_type": "execute_result"
    }
   ],
   "source": [
    "df['Label'].value_counts()"
   ]
  },
  {
   "cell_type": "code",
   "execution_count": 9,
   "metadata": {
    "colab": {
     "base_uri": "https://localhost:8080/"
    },
    "id": "sEXeD7DLjETU",
    "outputId": "8a04cba7-05ac-43c7-d7b4-dd07c0481c08"
   },
   "outputs": [
    {
     "data": {
      "text/plain": [
       "6           170066\n",
       "17           95674\n",
       "6            42833\n",
       "17           15378\n",
       "0             4596\n",
       "0             2553\n",
       "Protocol        25\n",
       "Name: Protocol, dtype: int64"
      ]
     },
     "execution_count": 9,
     "metadata": {},
     "output_type": "execute_result"
    }
   ],
   "source": [
    "df['Protocol'].value_counts()"
   ]
  },
  {
   "cell_type": "markdown",
   "metadata": {
    "id": "fIQIM0I18EDA"
   },
   "source": [
    "## 2.2 Try to remove the duplication headers"
   ]
  },
  {
   "cell_type": "code",
   "execution_count": 10,
   "metadata": {
    "colab": {
     "base_uri": "https://localhost:8080/"
    },
    "id": "jUlgxqM2Blhy",
    "outputId": "2a41fcfc-a306-4d73-a0b6-864a8c45db16"
   },
   "outputs": [
    {
     "data": {
      "text/plain": [
       "(331125, 80)"
      ]
     },
     "execution_count": 10,
     "metadata": {},
     "output_type": "execute_result"
    }
   ],
   "source": [
    "# dimension of dataframe\n",
    "df.shape"
   ]
  },
  {
   "cell_type": "markdown",
   "metadata": {
    "id": "VxSCNi60BztW"
   },
   "source": [
    "**we have 331125 rows before filter the duplicate headers**"
   ]
  },
  {
   "cell_type": "code",
   "execution_count": 11,
   "metadata": {
    "colab": {
     "base_uri": "https://localhost:8080/"
    },
    "id": "-N_drhhMBMog",
    "outputId": "6b4d5f22-b59d-43b5-cfc6-914249e35fe2"
   },
   "outputs": [
    {
     "data": {
      "text/plain": [
       "(331100, 80)"
      ]
     },
     "execution_count": 11,
     "metadata": {},
     "output_type": "execute_result"
    }
   ],
   "source": [
    "df = df[df.Label.str.contains('Label') == False]\n",
    "\n",
    "df.shape"
   ]
  },
  {
   "cell_type": "markdown",
   "metadata": {
    "id": "HRjx7Xzarr3w"
   },
   "source": [
    "**we have 331100 rows after filter the duplicate headers... almost 25 rows remove**"
   ]
  },
  {
   "cell_type": "code",
   "execution_count": 12,
   "metadata": {
    "colab": {
     "base_uri": "https://localhost:8080/"
    },
    "id": "4BodWk93rpzW",
    "outputId": "0d86df6c-fec9-4717-ccac-7981ed5321fc"
   },
   "outputs": [
    {
     "data": {
      "text/plain": [
       "6     170066\n",
       "17     95674\n",
       "6      42833\n",
       "17     15378\n",
       "0       4596\n",
       "0       2553\n",
       "Name: Protocol, dtype: int64"
      ]
     },
     "execution_count": 12,
     "metadata": {},
     "output_type": "execute_result"
    }
   ],
   "source": [
    "df['Protocol'].value_counts()"
   ]
  },
  {
   "cell_type": "code",
   "execution_count": 13,
   "metadata": {
    "colab": {
     "base_uri": "https://localhost:8080/"
    },
    "id": "iabFunXLvdXj",
    "outputId": "4c97be4d-8d57-4e8b-b4c8-3e94905accdc"
   },
   "outputs": [
    {
     "data": {
      "text/plain": [
       "Benign           238037\n",
       "Infilteration     93063\n",
       "Name: Label, dtype: int64"
      ]
     },
     "execution_count": 13,
     "metadata": {},
     "output_type": "execute_result"
    }
   ],
   "source": [
    "df['Label'].value_counts()"
   ]
  },
  {
   "cell_type": "markdown",
   "metadata": {},
   "source": [
    "## 2.3 Change column data type"
   ]
  },
  {
   "cell_type": "markdown",
   "metadata": {},
   "source": [
    "- We notice that all column data type is object because it mixed numeric data & Infinity character"
   ]
  },
  {
   "cell_type": "code",
   "execution_count": 14,
   "metadata": {},
   "outputs": [
    {
     "name": "stdout",
     "output_type": "stream",
     "text": [
      "<class 'pandas.core.frame.DataFrame'>\n",
      "Int64Index: 331100 entries, 0 to 331111\n",
      "Data columns (total 80 columns):\n",
      " #   Column             Non-Null Count   Dtype \n",
      "---  ------             --------------   ----- \n",
      " 0   Dst Port           331100 non-null  object\n",
      " 1   Protocol           331100 non-null  object\n",
      " 2   Timestamp          331100 non-null  object\n",
      " 3   Flow Duration      331100 non-null  object\n",
      " 4   Tot Fwd Pkts       331100 non-null  object\n",
      " 5   Tot Bwd Pkts       331100 non-null  object\n",
      " 6   TotLen Fwd Pkts    331100 non-null  object\n",
      " 7   TotLen Bwd Pkts    331100 non-null  object\n",
      " 8   Fwd Pkt Len Max    331100 non-null  object\n",
      " 9   Fwd Pkt Len Min    331100 non-null  object\n",
      " 10  Fwd Pkt Len Mean   331100 non-null  object\n",
      " 11  Fwd Pkt Len Std    331100 non-null  object\n",
      " 12  Bwd Pkt Len Max    331100 non-null  object\n",
      " 13  Bwd Pkt Len Min    331100 non-null  object\n",
      " 14  Bwd Pkt Len Mean   331100 non-null  object\n",
      " 15  Bwd Pkt Len Std    331100 non-null  object\n",
      " 16  Flow Byts/s        329266 non-null  object\n",
      " 17  Flow Pkts/s        331100 non-null  object\n",
      " 18  Flow IAT Mean      331100 non-null  object\n",
      " 19  Flow IAT Std       331100 non-null  object\n",
      " 20  Flow IAT Max       331100 non-null  object\n",
      " 21  Flow IAT Min       331100 non-null  object\n",
      " 22  Fwd IAT Tot        331100 non-null  object\n",
      " 23  Fwd IAT Mean       331100 non-null  object\n",
      " 24  Fwd IAT Std        331100 non-null  object\n",
      " 25  Fwd IAT Max        331100 non-null  object\n",
      " 26  Fwd IAT Min        331100 non-null  object\n",
      " 27  Bwd IAT Tot        331100 non-null  object\n",
      " 28  Bwd IAT Mean       331100 non-null  object\n",
      " 29  Bwd IAT Std        331100 non-null  object\n",
      " 30  Bwd IAT Max        331100 non-null  object\n",
      " 31  Bwd IAT Min        331100 non-null  object\n",
      " 32  Fwd PSH Flags      331100 non-null  object\n",
      " 33  Bwd PSH Flags      331100 non-null  object\n",
      " 34  Fwd URG Flags      331100 non-null  object\n",
      " 35  Bwd URG Flags      331100 non-null  object\n",
      " 36  Fwd Header Len     331100 non-null  object\n",
      " 37  Bwd Header Len     331100 non-null  object\n",
      " 38  Fwd Pkts/s         331100 non-null  object\n",
      " 39  Bwd Pkts/s         331100 non-null  object\n",
      " 40  Pkt Len Min        331100 non-null  object\n",
      " 41  Pkt Len Max        331100 non-null  object\n",
      " 42  Pkt Len Mean       331100 non-null  object\n",
      " 43  Pkt Len Std        331100 non-null  object\n",
      " 44  Pkt Len Var        331100 non-null  object\n",
      " 45  FIN Flag Cnt       331100 non-null  object\n",
      " 46  SYN Flag Cnt       331100 non-null  object\n",
      " 47  RST Flag Cnt       331100 non-null  object\n",
      " 48  PSH Flag Cnt       331100 non-null  object\n",
      " 49  ACK Flag Cnt       331100 non-null  object\n",
      " 50  URG Flag Cnt       331100 non-null  object\n",
      " 51  CWE Flag Count     331100 non-null  object\n",
      " 52  ECE Flag Cnt       331100 non-null  object\n",
      " 53  Down/Up Ratio      331100 non-null  object\n",
      " 54  Pkt Size Avg       331100 non-null  object\n",
      " 55  Fwd Seg Size Avg   331100 non-null  object\n",
      " 56  Bwd Seg Size Avg   331100 non-null  object\n",
      " 57  Fwd Byts/b Avg     331100 non-null  object\n",
      " 58  Fwd Pkts/b Avg     331100 non-null  object\n",
      " 59  Fwd Blk Rate Avg   331100 non-null  object\n",
      " 60  Bwd Byts/b Avg     331100 non-null  object\n",
      " 61  Bwd Pkts/b Avg     331100 non-null  object\n",
      " 62  Bwd Blk Rate Avg   331100 non-null  object\n",
      " 63  Subflow Fwd Pkts   331100 non-null  object\n",
      " 64  Subflow Fwd Byts   331100 non-null  object\n",
      " 65  Subflow Bwd Pkts   331100 non-null  object\n",
      " 66  Subflow Bwd Byts   331100 non-null  object\n",
      " 67  Init Fwd Win Byts  331100 non-null  object\n",
      " 68  Init Bwd Win Byts  331100 non-null  object\n",
      " 69  Fwd Act Data Pkts  331100 non-null  object\n",
      " 70  Fwd Seg Size Min   331100 non-null  object\n",
      " 71  Active Mean        331100 non-null  object\n",
      " 72  Active Std         331100 non-null  object\n",
      " 73  Active Max         331100 non-null  object\n",
      " 74  Active Min         331100 non-null  object\n",
      " 75  Idle Mean          331100 non-null  object\n",
      " 76  Idle Std           331100 non-null  object\n",
      " 77  Idle Max           331100 non-null  object\n",
      " 78  Idle Min           331100 non-null  object\n",
      " 79  Label              331100 non-null  object\n",
      "dtypes: object(80)\n",
      "memory usage: 204.6+ MB\n"
     ]
    }
   ],
   "source": [
    "# explore the type of data in columns\n",
    "df.info()"
   ]
  },
  {
   "cell_type": "code",
   "execution_count": 15,
   "metadata": {},
   "outputs": [],
   "source": [
    "types = {\n",
    "    df.columns[0]: 'uint32',\n",
    "    df.columns[1]: 'uint8',\n",
    "    df.columns[2]: 'object',\n",
    "    df.columns[3]: 'int64',\n",
    "    df.columns[4]: 'uint32',\n",
    "    df.columns[5]: 'uint32',\n",
    "    df.columns[6]: 'uint32',\n",
    "    df.columns[7]: 'uint32',\n",
    "    df.columns[8]: 'uint16',\n",
    "    df.columns[9]: 'uint16',\n",
    "    df.columns[10]: 'float32',\n",
    "    df.columns[11]: 'float32',\n",
    "    df.columns[12]: 'uint16',\n",
    "    df.columns[13]: 'uint16',\n",
    "    df.columns[14]: 'float32',\n",
    "    df.columns[15]: 'float32',\n",
    "    df.columns[16]: 'float64',\n",
    "    df.columns[17]: 'float64',\n",
    "    df.columns[18]: 'float32',\n",
    "    df.columns[19]: 'float32',\n",
    "    df.columns[20]: 'int64',\n",
    "    df.columns[21]: 'int64',\n",
    "    df.columns[22]: 'int64',\n",
    "    df.columns[23]: 'float32',\n",
    "    df.columns[24]: 'float32',\n",
    "    df.columns[25]: 'int64',\n",
    "    df.columns[26]: 'int64',\n",
    "    df.columns[27]: 'uint32',\n",
    "    df.columns[28]: 'float32',\n",
    "    df.columns[29]: 'float32',\n",
    "    df.columns[30]: 'uint32',\n",
    "    df.columns[31]: 'uint32',\n",
    "    df.columns[32]: 'uint8',\n",
    "    df.columns[33]: 'uint8',\n",
    "    df.columns[34]: 'uint8',\n",
    "    df.columns[35]: 'uint8',\n",
    "    df.columns[36]: 'uint32',\n",
    "    df.columns[37]: 'uint32',\n",
    "    df.columns[38]: 'float32',\n",
    "    df.columns[39]: 'float32',\n",
    "    df.columns[40]: 'uint16',\n",
    "    df.columns[41]: 'uint16',\n",
    "    df.columns[42]: 'float32',\n",
    "    df.columns[43]: 'float32',\n",
    "    df.columns[44]: 'float32',\n",
    "    df.columns[45]: 'uint8',\n",
    "    df.columns[46]: 'uint8',\n",
    "    df.columns[47]: 'uint8',\n",
    "    df.columns[48]: 'uint8',\n",
    "    df.columns[49]: 'uint8',\n",
    "    df.columns[50]: 'uint8',\n",
    "    df.columns[51]: 'uint8',\n",
    "    df.columns[52]: 'uint8',\n",
    "    df.columns[53]: 'uint16',\n",
    "    df.columns[54]: 'float32',\n",
    "    df.columns[55]: 'float32',\n",
    "    df.columns[56]: 'float32',\n",
    "    df.columns[57]: 'uint8',\n",
    "    df.columns[58]: 'uint8',\n",
    "    df.columns[59]: 'uint8',\n",
    "    df.columns[60]: 'uint8',\n",
    "    df.columns[61]: 'uint8',\n",
    "    df.columns[62]: 'uint8',\n",
    "    df.columns[63]: 'uint32',\n",
    "    df.columns[64]: 'uint32',\n",
    "    df.columns[65]: 'uint32',\n",
    "    df.columns[66]: 'uint32',\n",
    "    df.columns[67]: 'int32',\n",
    "    df.columns[68]: 'int32',\n",
    "    df.columns[69]: 'uint32',\n",
    "    df.columns[70]: 'uint8',\n",
    "    df.columns[71]: 'float32',\n",
    "    df.columns[72]: 'float32',\n",
    "    df.columns[73]: 'uint32',\n",
    "    df.columns[74]: 'uint32',\n",
    "    df.columns[75]: 'float32',\n",
    "    df.columns[76]: 'float32',\n",
    "    df.columns[77]: 'uint64',\n",
    "    df.columns[78]: 'uint64',\n",
    "    df.columns[79]: 'category'\n",
    "}"
   ]
  },
  {
   "cell_type": "code",
   "execution_count": 16,
   "metadata": {},
   "outputs": [
    {
     "name": "stdout",
     "output_type": "stream",
     "text": [
      "<class 'pandas.core.frame.DataFrame'>\n",
      "Int64Index: 331100 entries, 0 to 331111\n",
      "Data columns (total 80 columns):\n",
      " #   Column             Non-Null Count   Dtype   \n",
      "---  ------             --------------   -----   \n",
      " 0   Dst Port           331100 non-null  uint32  \n",
      " 1   Protocol           331100 non-null  uint8   \n",
      " 2   Timestamp          331100 non-null  object  \n",
      " 3   Flow Duration      331100 non-null  int64   \n",
      " 4   Tot Fwd Pkts       331100 non-null  uint32  \n",
      " 5   Tot Bwd Pkts       331100 non-null  uint32  \n",
      " 6   TotLen Fwd Pkts    331100 non-null  uint32  \n",
      " 7   TotLen Bwd Pkts    331100 non-null  uint32  \n",
      " 8   Fwd Pkt Len Max    331100 non-null  uint16  \n",
      " 9   Fwd Pkt Len Min    331100 non-null  uint16  \n",
      " 10  Fwd Pkt Len Mean   331100 non-null  float32 \n",
      " 11  Fwd Pkt Len Std    331100 non-null  float32 \n",
      " 12  Bwd Pkt Len Max    331100 non-null  uint16  \n",
      " 13  Bwd Pkt Len Min    331100 non-null  uint16  \n",
      " 14  Bwd Pkt Len Mean   331100 non-null  float32 \n",
      " 15  Bwd Pkt Len Std    331100 non-null  float32 \n",
      " 16  Flow Byts/s        329266 non-null  float64 \n",
      " 17  Flow Pkts/s        331100 non-null  float64 \n",
      " 18  Flow IAT Mean      331100 non-null  float32 \n",
      " 19  Flow IAT Std       331100 non-null  float32 \n",
      " 20  Flow IAT Max       331100 non-null  int64   \n",
      " 21  Flow IAT Min       331100 non-null  int64   \n",
      " 22  Fwd IAT Tot        331100 non-null  int64   \n",
      " 23  Fwd IAT Mean       331100 non-null  float32 \n",
      " 24  Fwd IAT Std        331100 non-null  float32 \n",
      " 25  Fwd IAT Max        331100 non-null  int64   \n",
      " 26  Fwd IAT Min        331100 non-null  int64   \n",
      " 27  Bwd IAT Tot        331100 non-null  uint32  \n",
      " 28  Bwd IAT Mean       331100 non-null  float32 \n",
      " 29  Bwd IAT Std        331100 non-null  float32 \n",
      " 30  Bwd IAT Max        331100 non-null  uint32  \n",
      " 31  Bwd IAT Min        331100 non-null  uint32  \n",
      " 32  Fwd PSH Flags      331100 non-null  uint8   \n",
      " 33  Bwd PSH Flags      331100 non-null  uint8   \n",
      " 34  Fwd URG Flags      331100 non-null  uint8   \n",
      " 35  Bwd URG Flags      331100 non-null  uint8   \n",
      " 36  Fwd Header Len     331100 non-null  uint32  \n",
      " 37  Bwd Header Len     331100 non-null  uint32  \n",
      " 38  Fwd Pkts/s         331100 non-null  float32 \n",
      " 39  Bwd Pkts/s         331100 non-null  float32 \n",
      " 40  Pkt Len Min        331100 non-null  uint16  \n",
      " 41  Pkt Len Max        331100 non-null  uint16  \n",
      " 42  Pkt Len Mean       331100 non-null  float32 \n",
      " 43  Pkt Len Std        331100 non-null  float32 \n",
      " 44  Pkt Len Var        331100 non-null  float32 \n",
      " 45  FIN Flag Cnt       331100 non-null  uint8   \n",
      " 46  SYN Flag Cnt       331100 non-null  uint8   \n",
      " 47  RST Flag Cnt       331100 non-null  uint8   \n",
      " 48  PSH Flag Cnt       331100 non-null  uint8   \n",
      " 49  ACK Flag Cnt       331100 non-null  uint8   \n",
      " 50  URG Flag Cnt       331100 non-null  uint8   \n",
      " 51  CWE Flag Count     331100 non-null  uint8   \n",
      " 52  ECE Flag Cnt       331100 non-null  uint8   \n",
      " 53  Down/Up Ratio      331100 non-null  uint16  \n",
      " 54  Pkt Size Avg       331100 non-null  float32 \n",
      " 55  Fwd Seg Size Avg   331100 non-null  float32 \n",
      " 56  Bwd Seg Size Avg   331100 non-null  float32 \n",
      " 57  Fwd Byts/b Avg     331100 non-null  uint8   \n",
      " 58  Fwd Pkts/b Avg     331100 non-null  uint8   \n",
      " 59  Fwd Blk Rate Avg   331100 non-null  uint8   \n",
      " 60  Bwd Byts/b Avg     331100 non-null  uint8   \n",
      " 61  Bwd Pkts/b Avg     331100 non-null  uint8   \n",
      " 62  Bwd Blk Rate Avg   331100 non-null  uint8   \n",
      " 63  Subflow Fwd Pkts   331100 non-null  uint32  \n",
      " 64  Subflow Fwd Byts   331100 non-null  uint32  \n",
      " 65  Subflow Bwd Pkts   331100 non-null  uint32  \n",
      " 66  Subflow Bwd Byts   331100 non-null  uint32  \n",
      " 67  Init Fwd Win Byts  331100 non-null  int32   \n",
      " 68  Init Bwd Win Byts  331100 non-null  int32   \n",
      " 69  Fwd Act Data Pkts  331100 non-null  uint32  \n",
      " 70  Fwd Seg Size Min   331100 non-null  uint8   \n",
      " 71  Active Mean        331100 non-null  float32 \n",
      " 72  Active Std         331100 non-null  float32 \n",
      " 73  Active Max         331100 non-null  uint32  \n",
      " 74  Active Min         331100 non-null  uint32  \n",
      " 75  Idle Mean          331100 non-null  float32 \n",
      " 76  Idle Std           331100 non-null  float32 \n",
      " 77  Idle Max           331100 non-null  uint64  \n",
      " 78  Idle Min           331100 non-null  uint64  \n",
      " 79  Label              331100 non-null  category\n",
      "dtypes: category(1), float32(22), float64(2), int32(2), int64(6), object(1), uint16(7), uint32(17), uint64(2), uint8(20)\n",
      "memory usage: 93.1+ MB\n"
     ]
    }
   ],
   "source": [
    "df = df.astype(types)\n",
    "df.info()"
   ]
  },
  {
   "cell_type": "markdown",
   "metadata": {},
   "source": [
    "- We notice that when changing data type => \"Infinity\" converted to \"inf\" automatically"
   ]
  },
  {
   "cell_type": "markdown",
   "metadata": {
    "id": "V5dHewsKsZow"
   },
   "source": [
    "## 2.4 Try to filter NAN and Infinity values"
   ]
  },
  {
   "cell_type": "markdown",
   "metadata": {},
   "source": [
    "### Check NA and columns"
   ]
  },
  {
   "cell_type": "code",
   "execution_count": 17,
   "metadata": {
    "id": "WFmwiI7UsghH"
   },
   "outputs": [
    {
     "data": {
      "text/plain": [
       "True"
      ]
     },
     "execution_count": 17,
     "metadata": {},
     "output_type": "execute_result"
    }
   ],
   "source": [
    "# check NA \n",
    "df.isna().values.any()\n",
    "\n",
    "# there is NA values"
   ]
  },
  {
   "cell_type": "code",
   "execution_count": 18,
   "metadata": {},
   "outputs": [
    {
     "data": {
      "text/plain": [
       "['Flow Byts/s']"
      ]
     },
     "execution_count": 18,
     "metadata": {},
     "output_type": "execute_result"
    }
   ],
   "source": [
    "# detect the columns with NA\n",
    "df.columns[df.isnull().any()].tolist()"
   ]
  },
  {
   "cell_type": "code",
   "execution_count": 19,
   "metadata": {},
   "outputs": [
    {
     "data": {
      "text/plain": [
       "1834"
      ]
     },
     "execution_count": 19,
     "metadata": {},
     "output_type": "execute_result"
    }
   ],
   "source": [
    "df[\"Flow Byts/s\"].isna().sum()"
   ]
  },
  {
   "cell_type": "markdown",
   "metadata": {},
   "source": [
    "### Check Infinity and columns"
   ]
  },
  {
   "cell_type": "code",
   "execution_count": 20,
   "metadata": {},
   "outputs": [
    {
     "data": {
      "text/plain": [
       "False"
      ]
     },
     "execution_count": 20,
     "metadata": {},
     "output_type": "execute_result"
    }
   ],
   "source": [
    "# Infinity convert to inf automatically after change the data type\n",
    "df.isin(['Infinity']).values.any()"
   ]
  },
  {
   "cell_type": "code",
   "execution_count": 21,
   "metadata": {},
   "outputs": [
    {
     "data": {
      "text/plain": [
       "['Flow Byts/s', 'Flow Pkts/s']"
      ]
     },
     "execution_count": 21,
     "metadata": {},
     "output_type": "execute_result"
    }
   ],
   "source": [
    "# detect the columns with inf\n",
    "df.columns[df.isin([np.inf, -np.inf]).any()].tolist()"
   ]
  },
  {
   "cell_type": "code",
   "execution_count": 22,
   "metadata": {},
   "outputs": [
    {
     "data": {
      "text/plain": [
       "2919"
      ]
     },
     "execution_count": 22,
     "metadata": {},
     "output_type": "execute_result"
    }
   ],
   "source": [
    "df.apply(lambda row: row.astype(str).str.contains('inf').any(), axis=1).sum()"
   ]
  },
  {
   "cell_type": "markdown",
   "metadata": {},
   "source": [
    "### Replace inf & NAN with the mean of column"
   ]
  },
  {
   "cell_type": "code",
   "execution_count": 28,
   "metadata": {},
   "outputs": [],
   "source": [
    "inf_columns = df.columns[df.isin([np.inf, -np.inf]).any()].tolist()\n",
    "\n",
    "for col in inf_columns:\n",
    "    df[col].replace([np.inf, -np.inf], np.nan, inplace=True)\n",
    "    mean = df[col].mean()\n",
    "    df[col].fillna(mean, inplace=True)"
   ]
  },
  {
   "cell_type": "markdown",
   "metadata": {},
   "source": [
    "### Recheck the NAN and Infinity"
   ]
  },
  {
   "cell_type": "code",
   "execution_count": 29,
   "metadata": {},
   "outputs": [
    {
     "data": {
      "text/plain": [
       "False"
      ]
     },
     "execution_count": 29,
     "metadata": {},
     "output_type": "execute_result"
    }
   ],
   "source": [
    "# check NA \n",
    "df.isna().values.any()\n",
    "\n",
    "# There is no missing value"
   ]
  },
  {
   "cell_type": "code",
   "execution_count": 30,
   "metadata": {},
   "outputs": [
    {
     "data": {
      "text/plain": [
       "False"
      ]
     },
     "execution_count": 30,
     "metadata": {},
     "output_type": "execute_result"
    }
   ],
   "source": [
    "# check Infinity\n",
    "df.isin(['Infinity']).values.any()"
   ]
  },
  {
   "cell_type": "markdown",
   "metadata": {
    "id": "AmLbCo36wh2k"
   },
   "source": [
    "## 2.5 convert Label to 0 & 1"
   ]
  },
  {
   "cell_type": "code",
   "execution_count": 31,
   "metadata": {
    "colab": {
     "base_uri": "https://localhost:8080/"
    },
    "id": "_yaEiuwDwoRK",
    "outputId": "97706d01-0583-494a-b7a6-625adef05b67"
   },
   "outputs": [
    {
     "data": {
      "text/plain": [
       "0    238037\n",
       "1     93063\n",
       "Name: Label, dtype: int64"
      ]
     },
     "execution_count": 31,
     "metadata": {},
     "output_type": "execute_result"
    }
   ],
   "source": [
    "df['Label'] = df.Label.replace(to_replace=['Benign', 'Infilteration'], value=[0, 1])\n",
    "\n",
    "df['Label'].value_counts()"
   ]
  },
  {
   "cell_type": "code",
   "execution_count": 37,
   "metadata": {},
   "outputs": [
    {
     "data": {
      "image/png": "[encoded data removed]",
      "text/plain": [
       "<Figure size 432x288 with 1 Axes>"
      ]
     },
     "metadata": {
      "needs_background": "light"
     },
     "output_type": "display_data"
    }
   ],
   "source": [
    "# visualize plotting the detailes of target column\n",
    "plt.figure()\n",
    "sns.countplot(data=df, x='Label')\n",
    "plt.show()"
   ]
  },
  {
   "cell_type": "markdown",
   "metadata": {},
   "source": [
    "## 2.6 Export the data after cleaning"
   ]
  },
  {
   "cell_type": "code",
   "execution_count": 36,
   "metadata": {},
   "outputs": [],
   "source": [
    "# export the data in new csv file\n",
    "df.to_csv('edit_Thursday-01-03-2018.csv')"
   ]
  },
  {
   "cell_type": "markdown",
   "metadata": {},
   "source": [
    "### 2.7 Convert the dataframe to Numpy array to achieve faster computation"
   ]
  },
  {
   "cell_type": "code",
   "execution_count": 46,
   "metadata": {},
   "outputs": [],
   "source": [
    "# exclude Timestamp column from the data which we needn't it\n",
    "df = df.drop(['Timestamp'], axis= 'columns')\n",
    "\n",
    "array = df.values\n",
    "X = array[:,0:77] # all columns except label column\n",
    "Y = array[:,78] # the label column"
   ]
  },
  {
   "cell_type": "markdown",
   "metadata": {
    "id": "J6bqaQRgvWb0"
   },
   "source": [
    "# 3. Feature Selection"
   ]
  },
  {
   "cell_type": "markdown",
   "metadata": {},
   "source": [
    "https://www.datacamp.com/tutorial/feature-selection-python"
   ]
  },
  {
   "cell_type": "code",
   "execution_count": 48,
   "metadata": {
    "id": "WfP5HD_roZN2"
   },
   "outputs": [
    {
     "ename": "ValueError",
     "evalue": "Input X must be non-negative.",
     "output_type": "error",
     "traceback": [
      "\u001b[0;31m---------------------------------------------------------------------------\u001b[0m",
      "\u001b[0;31mValueError\u001b[0m                                Traceback (most recent call last)",
      "\u001b[0;32m/tmp/ipykernel_16349/3194020590.py\u001b[0m in \u001b[0;36m<module>\u001b[0;34m\u001b[0m\n\u001b[1;32m      7\u001b[0m \u001b[0;31m# Feature extraction\u001b[0m\u001b[0;34m\u001b[0m\u001b[0;34m\u001b[0m\u001b[0;34m\u001b[0m\u001b[0m\n\u001b[1;32m      8\u001b[0m \u001b[0mtest\u001b[0m \u001b[0;34m=\u001b[0m \u001b[0mSelectKBest\u001b[0m\u001b[0;34m(\u001b[0m\u001b[0mscore_func\u001b[0m\u001b[0;34m=\u001b[0m\u001b[0mchi2\u001b[0m\u001b[0;34m,\u001b[0m \u001b[0mk\u001b[0m\u001b[0;34m=\u001b[0m\u001b[0;36m4\u001b[0m\u001b[0;34m)\u001b[0m\u001b[0;34m\u001b[0m\u001b[0;34m\u001b[0m\u001b[0m\n\u001b[0;32m----> 9\u001b[0;31m \u001b[0mfit\u001b[0m \u001b[0;34m=\u001b[0m \u001b[0mtest\u001b[0m\u001b[0;34m.\u001b[0m\u001b[0mfit\u001b[0m\u001b[0;34m(\u001b[0m\u001b[0mX\u001b[0m\u001b[0;34m,\u001b[0m \u001b[0mY\u001b[0m\u001b[0;34m)\u001b[0m\u001b[0;34m\u001b[0m\u001b[0;34m\u001b[0m\u001b[0m\n\u001b[0m\u001b[1;32m     10\u001b[0m \u001b[0;34m\u001b[0m\u001b[0m\n\u001b[1;32m     11\u001b[0m \u001b[0;31m# Summarize scores\u001b[0m\u001b[0;34m\u001b[0m\u001b[0;34m\u001b[0m\u001b[0;34m\u001b[0m\u001b[0m\n",
      "\u001b[0;32m~/miniconda3/lib/python3.7/site-packages/sklearn/feature_selection/_univariate_selection.py\u001b[0m in \u001b[0;36mfit\u001b[0;34m(self, X, y)\u001b[0m\n\u001b[1;32m    406\u001b[0m \u001b[0;34m\u001b[0m\u001b[0m\n\u001b[1;32m    407\u001b[0m         \u001b[0mself\u001b[0m\u001b[0;34m.\u001b[0m\u001b[0m_check_params\u001b[0m\u001b[0;34m(\u001b[0m\u001b[0mX\u001b[0m\u001b[0;34m,\u001b[0m \u001b[0my\u001b[0m\u001b[0;34m)\u001b[0m\u001b[0;34m\u001b[0m\u001b[0;34m\u001b[0m\u001b[0m\n\u001b[0;32m--> 408\u001b[0;31m         \u001b[0mscore_func_ret\u001b[0m \u001b[0;34m=\u001b[0m \u001b[0mself\u001b[0m\u001b[0;34m.\u001b[0m\u001b[0mscore_func\u001b[0m\u001b[0;34m(\u001b[0m\u001b[0mX\u001b[0m\u001b[0;34m,\u001b[0m \u001b[0my\u001b[0m\u001b[0;34m)\u001b[0m\u001b[0;34m\u001b[0m\u001b[0;34m\u001b[0m\u001b[0m\n\u001b[0m\u001b[1;32m    409\u001b[0m         \u001b[0;32mif\u001b[0m \u001b[0misinstance\u001b[0m\u001b[0;34m(\u001b[0m\u001b[0mscore_func_ret\u001b[0m\u001b[0;34m,\u001b[0m \u001b[0;34m(\u001b[0m\u001b[0mlist\u001b[0m\u001b[0;34m,\u001b[0m \u001b[0mtuple\u001b[0m\u001b[0;34m)\u001b[0m\u001b[0;34m)\u001b[0m\u001b[0;34m:\u001b[0m\u001b[0;34m\u001b[0m\u001b[0;34m\u001b[0m\u001b[0m\n\u001b[1;32m    410\u001b[0m             \u001b[0mself\u001b[0m\u001b[0;34m.\u001b[0m\u001b[0mscores_\u001b[0m\u001b[0;34m,\u001b[0m \u001b[0mself\u001b[0m\u001b[0;34m.\u001b[0m\u001b[0mpvalues_\u001b[0m \u001b[0;34m=\u001b[0m \u001b[0mscore_func_ret\u001b[0m\u001b[0;34m\u001b[0m\u001b[0;34m\u001b[0m\u001b[0m\n",
      "\u001b[0;32m~/miniconda3/lib/python3.7/site-packages/sklearn/feature_selection/_univariate_selection.py\u001b[0m in \u001b[0;36mchi2\u001b[0;34m(X, y)\u001b[0m\n\u001b[1;32m    213\u001b[0m     \u001b[0mX\u001b[0m \u001b[0;34m=\u001b[0m \u001b[0mcheck_array\u001b[0m\u001b[0;34m(\u001b[0m\u001b[0mX\u001b[0m\u001b[0;34m,\u001b[0m \u001b[0maccept_sparse\u001b[0m\u001b[0;34m=\u001b[0m\u001b[0;34m\"csr\"\u001b[0m\u001b[0;34m)\u001b[0m\u001b[0;34m\u001b[0m\u001b[0;34m\u001b[0m\u001b[0m\n\u001b[1;32m    214\u001b[0m     \u001b[0;32mif\u001b[0m \u001b[0mnp\u001b[0m\u001b[0;34m.\u001b[0m\u001b[0many\u001b[0m\u001b[0;34m(\u001b[0m\u001b[0;34m(\u001b[0m\u001b[0mX\u001b[0m\u001b[0;34m.\u001b[0m\u001b[0mdata\u001b[0m \u001b[0;32mif\u001b[0m \u001b[0missparse\u001b[0m\u001b[0;34m(\u001b[0m\u001b[0mX\u001b[0m\u001b[0;34m)\u001b[0m \u001b[0;32melse\u001b[0m \u001b[0mX\u001b[0m\u001b[0;34m)\u001b[0m \u001b[0;34m<\u001b[0m \u001b[0;36m0\u001b[0m\u001b[0;34m)\u001b[0m\u001b[0;34m:\u001b[0m\u001b[0;34m\u001b[0m\u001b[0;34m\u001b[0m\u001b[0m\n\u001b[0;32m--> 215\u001b[0;31m         \u001b[0;32mraise\u001b[0m \u001b[0mValueError\u001b[0m\u001b[0;34m(\u001b[0m\u001b[0;34m\"Input X must be non-negative.\"\u001b[0m\u001b[0;34m)\u001b[0m\u001b[0;34m\u001b[0m\u001b[0;34m\u001b[0m\u001b[0m\n\u001b[0m\u001b[1;32m    216\u001b[0m \u001b[0;34m\u001b[0m\u001b[0m\n\u001b[1;32m    217\u001b[0m     \u001b[0mY\u001b[0m \u001b[0;34m=\u001b[0m \u001b[0mLabelBinarizer\u001b[0m\u001b[0;34m(\u001b[0m\u001b[0;34m)\u001b[0m\u001b[0;34m.\u001b[0m\u001b[0mfit_transform\u001b[0m\u001b[0;34m(\u001b[0m\u001b[0my\u001b[0m\u001b[0;34m)\u001b[0m\u001b[0;34m\u001b[0m\u001b[0;34m\u001b[0m\u001b[0m\n",
      "\u001b[0;31mValueError\u001b[0m: Input X must be non-negative."
     ]
    }
   ],
   "source": [
    "# Chi-Squared\n",
    "\n",
    "# Import the necessary libraries first\n",
    "from sklearn.feature_selection import SelectKBest\n",
    "from sklearn.feature_selection import chi2\n",
    "\n",
    "# Feature extraction\n",
    "test = SelectKBest(score_func=chi2, k=4)\n",
    "fit = test.fit(X, Y)\n",
    "\n",
    "# Summarize scores\n",
    "np.set_printoptions(precision=3)\n",
    "print(fit.scores_)\n",
    "\n",
    "features = fit.transform(X)\n",
    "# Summarize selected features\n",
    "print(features[0:5,:])"
   ]
  },
  {
   "cell_type": "code",
   "execution_count": null,
   "metadata": {},
   "outputs": [
    {
     "name": "stderr",
     "output_type": "stream",
     "text": [
      "/home/hp/miniconda3/lib/python3.7/site-packages/sklearn/linear_model/_logistic.py:818: ConvergenceWarning: lbfgs failed to converge (status=1):\n",
      "STOP: TOTAL NO. of ITERATIONS REACHED LIMIT.\n",
      "\n",
      "Increase the number of iterations (max_iter) or scale the data as shown in:\n",
      "    https://scikit-learn.org/stable/modules/preprocessing.html\n",
      "Please also refer to the documentation for alternative solver options:\n",
      "    https://scikit-learn.org/stable/modules/linear_model.html#logistic-regression\n",
      "  extra_warning_msg=_LOGISTIC_SOLVER_CONVERGENCE_MSG,\n",
      "/home/hp/miniconda3/lib/python3.7/site-packages/sklearn/linear_model/_logistic.py:818: ConvergenceWarning: lbfgs failed to converge (status=1):\n",
      "STOP: TOTAL NO. of ITERATIONS REACHED LIMIT.\n",
      "\n",
      "Increase the number of iterations (max_iter) or scale the data as shown in:\n",
      "    https://scikit-learn.org/stable/modules/preprocessing.html\n",
      "Please also refer to the documentation for alternative solver options:\n",
      "    https://scikit-learn.org/stable/modules/linear_model.html#logistic-regression\n",
      "  extra_warning_msg=_LOGISTIC_SOLVER_CONVERGENCE_MSG,\n",
      "/home/hp/miniconda3/lib/python3.7/site-packages/sklearn/linear_model/_logistic.py:818: ConvergenceWarning: lbfgs failed to converge (status=1):\n",
      "STOP: TOTAL NO. of ITERATIONS REACHED LIMIT.\n",
      "\n",
      "Increase the number of iterations (max_iter) or scale the data as shown in:\n",
      "    https://scikit-learn.org/stable/modules/preprocessing.html\n",
      "Please also refer to the documentation for alternative solver options:\n",
      "    https://scikit-learn.org/stable/modules/linear_model.html#logistic-regression\n",
      "  extra_warning_msg=_LOGISTIC_SOLVER_CONVERGENCE_MSG,\n",
      "/home/hp/miniconda3/lib/python3.7/site-packages/sklearn/linear_model/_logistic.py:818: ConvergenceWarning: lbfgs failed to converge (status=1):\n",
      "STOP: TOTAL NO. of ITERATIONS REACHED LIMIT.\n",
      "\n",
      "Increase the number of iterations (max_iter) or scale the data as shown in:\n",
      "    https://scikit-learn.org/stable/modules/preprocessing.html\n",
      "Please also refer to the documentation for alternative solver options:\n",
      "    https://scikit-learn.org/stable/modules/linear_model.html#logistic-regression\n",
      "  extra_warning_msg=_LOGISTIC_SOLVER_CONVERGENCE_MSG,\n"
     ]
    }
   ],
   "source": [
    "# Recursive Feature Elimination \n",
    "\n",
    "# Import your necessary dependencies\n",
    "from sklearn.feature_selection import RFE\n",
    "from sklearn.linear_model import LogisticRegression\n",
    "\n",
    "# Feature extraction\n",
    "model = LogisticRegression()\n",
    "rfe = RFE(model, n_features_to_select=5, step=1)\n",
    "fit = rfe.fit(X, Y)\n",
    "print(\"Num Features: %s\" % (fit.n_features_))\n",
    "print(\"Selected Features: %s\" % (fit.support_))\n",
    "print(\"Feature Ranking: %s\" % (fit.ranking_))"
   ]
  }
 ],
 "metadata": {
  "colab": {
   "collapsed_sections": [],
   "name": "ML Project.ipynb",
   "provenance": []
  },
  "kernelspec": {
   "display_name": "Python 3",
   "language": "python",
   "name": "python3"
  },
  "language_info": {
   "codemirror_mode": {
    "name": "ipython",
    "version": 3
   },
   "file_extension": ".py",
   "mimetype": "text/x-python",
   "name": "python",
   "nbconvert_exporter": "python",
   "pygments_lexer": "ipython3",
   "version": "3.7.10"
  }
 },
 "nbformat": 4,
 "nbformat_minor": 1
}
